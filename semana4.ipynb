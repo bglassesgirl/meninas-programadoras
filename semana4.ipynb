{
  "nbformat": 4,
  "nbformat_minor": 0,
  "metadata": {
    "colab": {
      "provenance": [],
      "authorship_tag": "ABX9TyMeG08OHDXuD8QJUKfSBEuP",
      "include_colab_link": true
    },
    "kernelspec": {
      "name": "python3",
      "display_name": "Python 3"
    },
    "language_info": {
      "name": "python"
    }
  },
  "cells": [
    {
      "cell_type": "markdown",
      "metadata": {
        "id": "view-in-github",
        "colab_type": "text"
      },
      "source": [
        "<a href=\"https://colab.research.google.com/github/bglassesgirl/meninas-programadoras/blob/main/semana4.ipynb\" target=\"_parent\"><img src=\"https://colab.research.google.com/assets/colab-badge.svg\" alt=\"Open In Colab\"/></a>"
      ]
    },
    {
      "cell_type": "code",
      "execution_count": null,
      "metadata": {
        "id": "IacotB612CFV"
      },
      "outputs": [],
      "source": []
    },
    {
      "cell_type": "markdown",
      "source": [
        "# 1 28\n",
        "Contador A\n",
        "\n",
        "Seu programa deve ler um valor inteiro positivo e imprimir, um por linha, os valores entre 0 e o valor anterior ao inteiro lido.\n",
        "\n",
        "Entrada:\n",
        "\n",
        "Um valor inteiro\n",
        "\n",
        "Saída:\n",
        "\n",
        "Como especificado acima."
      ],
      "metadata": {
        "id": "tOqyDRLo2Ie4"
      }
    },
    {
      "cell_type": "code",
      "source": [
        "numero = int(input())\n",
        "\n",
        "for item in range(numero):\n",
        "  print(item)"
      ],
      "metadata": {
        "colab": {
          "base_uri": "https://localhost:8080/"
        },
        "id": "YsGRnbmW2O4k",
        "outputId": "61ee522a-1ead-40fe-ab8c-88cea556fc63"
      },
      "execution_count": 3,
      "outputs": [
        {
          "output_type": "stream",
          "name": "stdout",
          "text": [
            "21\n",
            "0\n",
            "1\n",
            "2\n",
            "3\n",
            "4\n",
            "5\n",
            "6\n",
            "7\n",
            "8\n",
            "9\n",
            "10\n",
            "11\n",
            "12\n",
            "13\n",
            "14\n",
            "15\n",
            "16\n",
            "17\n",
            "18\n",
            "19\n",
            "20\n"
          ]
        }
      ]
    },
    {
      "cell_type": "markdown",
      "source": [
        "# 2 29\n",
        "Contador B\n",
        "\n",
        "Seu programa deve ler um valor inteiro positivo e imprimir, um por linha, os valores entre 1 e o inteiro lido, inclusive.\n",
        "\n",
        "Entrada:\n",
        "\n",
        "Você pode clicar aqui para digitar a descrição da entrada do seu problema usando multiplos parágrafos se necessário.\n",
        "\n",
        "Saída:\n",
        "\n",
        "Você pode clicar aqui para digitar a descrição da entrada do seu problema usando multiplos parágrafos se necessário."
      ],
      "metadata": {
        "id": "xi0pLRXV24Zs"
      }
    },
    {
      "cell_type": "code",
      "source": [
        "numero = int(input())\n",
        "\n",
        "for item in range(1,numero +1):\n",
        "  print(item)"
      ],
      "metadata": {
        "colab": {
          "base_uri": "https://localhost:8080/"
        },
        "id": "snTP4lmV3BKI",
        "outputId": "c70d2816-604e-4b88-d381-e4cdf453bd82"
      },
      "execution_count": 20,
      "outputs": [
        {
          "output_type": "stream",
          "name": "stdout",
          "text": [
            "33\n",
            "1\n",
            "2\n",
            "3\n",
            "4\n",
            "5\n",
            "6\n",
            "7\n",
            "8\n",
            "9\n",
            "10\n",
            "11\n",
            "12\n",
            "13\n",
            "14\n",
            "15\n",
            "16\n",
            "17\n",
            "18\n",
            "19\n",
            "20\n",
            "21\n",
            "22\n",
            "23\n",
            "24\n",
            "25\n",
            "26\n",
            "27\n",
            "28\n",
            "29\n",
            "30\n",
            "31\n",
            "32\n",
            "33\n"
          ]
        }
      ]
    },
    {
      "cell_type": "markdown",
      "source": [
        "# 2 30\n",
        "\n",
        "Contador C\n",
        "\n",
        "Seu programa deve ler um valor inteiro positivo e imprimir, um por linha, os valores pares entre 0 e o inteiro lido, inclusive.\n",
        "\n",
        "Entrada:\n",
        "\n",
        "Você pode clicar aqui para digitar a descrição da entrada do seu problema usando multiplos parágrafos se necessário.\n",
        "\n",
        "Saída:\n",
        "\n",
        "Você pode clicar aqui para digitar a descrição da entrada do seu problema usando multiplos parágrafos se necessário."
      ],
      "metadata": {
        "id": "2lVUU7y639fR"
      }
    },
    {
      "cell_type": "code",
      "source": [
        "numero = int(input())\n",
        "\n",
        "for item in range(0,numero + 1, 2):\n",
        "   print(item)"
      ],
      "metadata": {
        "colab": {
          "base_uri": "https://localhost:8080/"
        },
        "id": "Yd7sYY4s4DWB",
        "outputId": "69296e0a-8c8e-4d7e-c4c9-ec41ea60cb24"
      },
      "execution_count": 24,
      "outputs": [
        {
          "output_type": "stream",
          "name": "stdout",
          "text": [
            "21\n",
            "0\n",
            "2\n",
            "4\n",
            "6\n",
            "8\n",
            "10\n",
            "12\n",
            "14\n",
            "16\n",
            "18\n",
            "20\n"
          ]
        }
      ]
    },
    {
      "cell_type": "markdown",
      "source": [],
      "metadata": {
        "id": "9jhSsxKK8xGp"
      }
    },
    {
      "cell_type": "markdown",
      "source": [
        "# 3 Tabuada\n"
      ],
      "metadata": {
        "id": "3XpIHpEk8zuA"
      }
    },
    {
      "cell_type": "code",
      "source": [
        "numero = int(input())\n",
        "tabuada = [0, 1,3,4,5,6,7,8,9,10,11]\n",
        "tamanho = len(tabuada)\n",
        "indice = 0\n",
        "cont = 1\n",
        "\n",
        "print('Tabuada do', numero)\n",
        "while cont <= tamanho:\n",
        "   resultado = numero * cont\n",
        "   print(numero, 'x', cont, '=', resultado)\n",
        "   indice = indice+1\n",
        "   cont = cont+1\n"
      ],
      "metadata": {
        "colab": {
          "base_uri": "https://localhost:8080/"
        },
        "id": "qBxDY5Ez9QpU",
        "outputId": "62ffd298-5e98-4efc-e4b9-eaff4dda659a"
      },
      "execution_count": 40,
      "outputs": [
        {
          "output_type": "stream",
          "name": "stdout",
          "text": [
            "49\n",
            "Tabuada do 49\n",
            "49 x 1 = 49\n",
            "49 x 2 = 98\n",
            "49 x 3 = 147\n",
            "49 x 4 = 196\n",
            "49 x 5 = 245\n",
            "49 x 6 = 294\n",
            "49 x 7 = 343\n",
            "49 x 8 = 392\n",
            "49 x 9 = 441\n",
            "49 x 10 = 490\n",
            "49 x 11 = 539\n"
          ]
        }
      ]
    },
    {
      "cell_type": "markdown",
      "source": [
        "# 5 Tabuada: valores\n"
      ],
      "metadata": {
        "id": "6FNIx8QtBH7t"
      }
    },
    {
      "cell_type": "code",
      "source": [
        "numero = int(input())\n",
        "tabuada = [0, 1,3,4,5,6,7,8,9,10,11]\n",
        "tamanho = len(tabuada)\n",
        "indice = 0\n",
        "cont = 1\n",
        "\n",
        "while cont <= tamanho:\n",
        "   resultado = numero * cont\n",
        "   print(resultado)\n",
        "   indice = indice+1\n",
        "   cont = cont+1"
      ],
      "metadata": {
        "colab": {
          "base_uri": "https://localhost:8080/"
        },
        "id": "-EuAxcNXBOZ8",
        "outputId": "4e790d6c-28d4-4662-d4e6-a105a8ab7b6a"
      },
      "execution_count": 41,
      "outputs": [
        {
          "output_type": "stream",
          "name": "stdout",
          "text": [
            "7\n",
            "7\n",
            "14\n",
            "21\n",
            "28\n",
            "35\n",
            "42\n",
            "49\n",
            "56\n",
            "63\n",
            "70\n",
            "77\n"
          ]
        }
      ]
    },
    {
      "cell_type": "markdown",
      "source": [
        "# 6 Balanço #5"
      ],
      "metadata": {
        "id": "KV0v1cIUCSok"
      }
    },
    {
      "cell_type": "code",
      "source": [
        "numero = int(input())\n",
        "primeiro = int(input())\n",
        "ultimo = int(input())\n",
        "cont = primeiro\n",
        "\n",
        "print('Tabuada do', numero, 'de', primeiro, 'até', ultimo)\n",
        "\n",
        "for i in range(primeiro, ultimo+1):\n",
        "   resultado = numero * i\n",
        "   print(numero, 'x', i, '=', resultado)\n",
        "   cont = cont+1"
      ],
      "metadata": {
        "colab": {
          "base_uri": "https://localhost:8080/"
        },
        "id": "hdAAn6TGCWjV",
        "outputId": "a9b7fdd4-b707-4bac-bb62-a259cbe40d73"
      },
      "execution_count": 46,
      "outputs": [
        {
          "output_type": "stream",
          "name": "stdout",
          "text": [
            "9\n",
            "9\n",
            "99\n",
            "Tabuada do 9 de 9 até 99\n",
            "9 x 9 = 81\n",
            "9 x 10 = 90\n",
            "9 x 11 = 99\n",
            "9 x 12 = 108\n",
            "9 x 13 = 117\n",
            "9 x 14 = 126\n",
            "9 x 15 = 135\n",
            "9 x 16 = 144\n",
            "9 x 17 = 153\n",
            "9 x 18 = 162\n",
            "9 x 19 = 171\n",
            "9 x 20 = 180\n",
            "9 x 21 = 189\n",
            "9 x 22 = 198\n",
            "9 x 23 = 207\n",
            "9 x 24 = 216\n",
            "9 x 25 = 225\n",
            "9 x 26 = 234\n",
            "9 x 27 = 243\n",
            "9 x 28 = 252\n",
            "9 x 29 = 261\n",
            "9 x 30 = 270\n",
            "9 x 31 = 279\n",
            "9 x 32 = 288\n",
            "9 x 33 = 297\n",
            "9 x 34 = 306\n",
            "9 x 35 = 315\n",
            "9 x 36 = 324\n",
            "9 x 37 = 333\n",
            "9 x 38 = 342\n",
            "9 x 39 = 351\n",
            "9 x 40 = 360\n",
            "9 x 41 = 369\n",
            "9 x 42 = 378\n",
            "9 x 43 = 387\n",
            "9 x 44 = 396\n",
            "9 x 45 = 405\n",
            "9 x 46 = 414\n",
            "9 x 47 = 423\n",
            "9 x 48 = 432\n",
            "9 x 49 = 441\n",
            "9 x 50 = 450\n",
            "9 x 51 = 459\n",
            "9 x 52 = 468\n",
            "9 x 53 = 477\n",
            "9 x 54 = 486\n",
            "9 x 55 = 495\n",
            "9 x 56 = 504\n",
            "9 x 57 = 513\n",
            "9 x 58 = 522\n",
            "9 x 59 = 531\n",
            "9 x 60 = 540\n",
            "9 x 61 = 549\n",
            "9 x 62 = 558\n",
            "9 x 63 = 567\n",
            "9 x 64 = 576\n",
            "9 x 65 = 585\n",
            "9 x 66 = 594\n",
            "9 x 67 = 603\n",
            "9 x 68 = 612\n",
            "9 x 69 = 621\n",
            "9 x 70 = 630\n",
            "9 x 71 = 639\n",
            "9 x 72 = 648\n",
            "9 x 73 = 657\n",
            "9 x 74 = 666\n",
            "9 x 75 = 675\n",
            "9 x 76 = 684\n",
            "9 x 77 = 693\n",
            "9 x 78 = 702\n",
            "9 x 79 = 711\n",
            "9 x 80 = 720\n",
            "9 x 81 = 729\n",
            "9 x 82 = 738\n",
            "9 x 83 = 747\n",
            "9 x 84 = 756\n",
            "9 x 85 = 765\n",
            "9 x 86 = 774\n",
            "9 x 87 = 783\n",
            "9 x 88 = 792\n",
            "9 x 89 = 801\n",
            "9 x 90 = 810\n",
            "9 x 91 = 819\n",
            "9 x 92 = 828\n",
            "9 x 93 = 837\n",
            "9 x 94 = 846\n",
            "9 x 95 = 855\n",
            "9 x 96 = 864\n",
            "9 x 97 = 873\n",
            "9 x 98 = 882\n",
            "9 x 99 = 891\n"
          ]
        }
      ]
    },
    {
      "cell_type": "markdown",
      "source": [
        "# 7 25\n",
        "\n",
        "**Histograma A**\n",
        "\n",
        "Vamos desenhar um histograma? Seu programa deve ler uma linha que contém um algaritsmo entre 1 e 9, e imprimir uma sequência de asteriscos correspondente ao valor lido.\n",
        "\n",
        "**Entrada**:\n",
        "Uma linha com um valor entre 1 e 9\n",
        "\n",
        "**Saída**:\n",
        "Uma linha com uma sequência de asteriscos correspondente ao valor lido."
      ],
      "metadata": {
        "id": "lvl-w123GiLm"
      }
    },
    {
      "cell_type": "code",
      "source": [
        "numero = int(input())\n",
        "\n",
        "if 1 <= numero <= 9:\n",
        "    asteriscos = '*' * numero\n",
        "    print(asteriscos)"
      ],
      "metadata": {
        "colab": {
          "base_uri": "https://localhost:8080/"
        },
        "id": "Ym5RH7gjGu5F",
        "outputId": "87293464-b4a6-4726-bae1-b71137d4fae5"
      },
      "execution_count": 3,
      "outputs": [
        {
          "output_type": "stream",
          "name": "stdout",
          "text": [
            "9\n",
            "*********\n"
          ]
        }
      ]
    },
    {
      "cell_type": "code",
      "source": [],
      "metadata": {
        "id": "NPM8cV4E-hTd"
      },
      "execution_count": null,
      "outputs": []
    },
    {
      "cell_type": "markdown",
      "source": [
        "# 8 26\n",
        "\n",
        "Histograma B\n",
        "\n",
        "Vamos desenhar outro histograma? Desta vez, seu programa deve ler uma linha que contém um algaritsmo entre 0 e 9 e:\n",
        "\n",
        "- se o valor for 0, imprimir um ponto final\n",
        "\n",
        "- caso contrário, imprimir uma sequência de asteriscos correspondente ao valor lido.\n",
        "\n",
        "Entrada\n",
        "\n",
        "Um valor entre 0 e 9\n",
        "\n",
        "Saída\n",
        "\n",
        "Uma linha, como explicitado acima"
      ],
      "metadata": {
        "id": "jjt_2Qqc-YkC"
      }
    },
    {
      "cell_type": "code",
      "source": [
        "numero = int(input())\n",
        "\n",
        "if 0 <= numero <= 9:\n",
        "    asteriscos = '*' * numero\n",
        "    print(asteriscos)\n",
        "    if numero == 0:\n",
        "      print('.')"
      ],
      "metadata": {
        "colab": {
          "base_uri": "https://localhost:8080/"
        },
        "id": "HC9V8TN5-i0s",
        "outputId": "791cc791-36ff-4d04-9f7d-11e28a9f91c8"
      },
      "execution_count": 6,
      "outputs": [
        {
          "output_type": "stream",
          "name": "stdout",
          "text": [
            "5\n",
            "*****\n"
          ]
        }
      ]
    },
    {
      "cell_type": "markdown",
      "source": [
        "# 9 27\n",
        "\n",
        "**Histograma C**\n",
        "\n",
        "Vamos desenhar outro histograma, agora com mais cara de histograma? \n",
        "\n",
        "Desta vez, seu programa deve ler uma linha que contém uma sequência de caracteres, sendo que todos os caracteres são digitos entre 1 e 9. Para cada dígito, seu programa deve imprimir uma linha com uma sequência de asteriscos correspondente ao valor representado pelo dígito.\n",
        "\n",
        "**Entrada**:Uma string formada por dígitos entre 1 e 9\n",
        "\n"
      ],
      "metadata": {
        "id": "BGAHEqq5_JUr"
      }
    },
    {
      "cell_type": "code",
      "source": [
        "sequencia = input()\n",
        "\n",
        "for digito in sequencia:\n",
        "    valor = int(digito)\n",
        "    asteriscos = '*' * valor\n",
        "    print(asteriscos)\n"
      ],
      "metadata": {
        "colab": {
          "base_uri": "https://localhost:8080/"
        },
        "id": "z0Mj8Sj3_UfB",
        "outputId": "7cf2759c-cf58-478a-8baa-f4711aaa30f6"
      },
      "execution_count": 10,
      "outputs": [
        {
          "output_type": "stream",
          "name": "stdout",
          "text": [
            "123456789\n",
            "*\n",
            "**\n",
            "***\n",
            "****\n",
            "*****\n",
            "******\n",
            "*******\n",
            "********\n",
            "*********\n"
          ]
        }
      ]
    }
  ]
}