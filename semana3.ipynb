{
  "nbformat": 4,
  "nbformat_minor": 0,
  "metadata": {
    "colab": {
      "provenance": [],
      "authorship_tag": "ABX9TyPPbFJYSIj5Iror4ewgyU00",
      "include_colab_link": true
    },
    "kernelspec": {
      "name": "python3",
      "display_name": "Python 3"
    },
    "language_info": {
      "name": "python"
    }
  },
  "cells": [
    {
      "cell_type": "markdown",
      "metadata": {
        "id": "view-in-github",
        "colab_type": "text"
      },
      "source": [
        "<a href=\"https://colab.research.google.com/github/bglassesgirl/meninas-programadoras/blob/main/semana3.ipynb\" target=\"_parent\"><img src=\"https://colab.research.google.com/assets/colab-badge.svg\" alt=\"Open In Colab\"/></a>"
      ]
    },
    {
      "cell_type": "code",
      "execution_count": null,
      "metadata": {
        "id": "FZx3iaH0ZbKS"
      },
      "outputs": [],
      "source": []
    },
    {
      "cell_type": "markdown",
      "source": [
        "1- Loud parrot"
      ],
      "metadata": {
        "id": "e6HSN-R-8Ugx"
      }
    },
    {
      "cell_type": "code",
      "source": [
        "nome = 'mARia dA grAçA'\n",
        "result = nome.title()\n",
        "print(result)\n",
        "\n",
        "result2 = nome.upper()\n",
        "print(result2)\n",
        "\n",
        "resul = nome.lower()\n",
        "print(resul)\n"
      ],
      "metadata": {
        "colab": {
          "base_uri": "https://localhost:8080/"
        },
        "id": "1HPJpmcO8Xom",
        "outputId": "a5264e02-ec39-4fd6-c891-53a631c7da81"
      },
      "execution_count": null,
      "outputs": [
        {
          "output_type": "stream",
          "name": "stdout",
          "text": [
            "Maria Da Graça\n",
            "MARIA DA GRAÇA\n",
            "maria da graça\n"
          ]
        }
      ]
    },
    {
      "cell_type": "code",
      "source": [
        "loud = input()\n",
        "\n",
        "while loud != '.':\n",
        "    result = loud.upper()\n",
        "    print(result)\n",
        "    loud = input()\n",
        "    \n",
        "if loud == '.':\n",
        "    print('BYE')"
      ],
      "metadata": {
        "colab": {
          "base_uri": "https://localhost:8080/"
        },
        "id": "m8kMNVgX9HEA",
        "outputId": "5addfa1d-6eb3-4049-a641-81f32e4bd3b9"
      },
      "execution_count": null,
      "outputs": [
        {
          "output_type": "stream",
          "name": "stdout",
          "text": [
            "luana\n",
            "LUANA\n",
            "gabriela\n",
            "GABRIELA\n",
            "lorenna\n",
            "LORENNA\n",
            ".\n",
            "BYE\n"
          ]
        }
      ]
    },
    {
      "cell_type": "markdown",
      "source": [
        "2 While #1 parrot"
      ],
      "metadata": {
        "id": "ad_SEbJFDaXR"
      }
    },
    {
      "cell_type": "code",
      "source": [
        "poema = input()\n",
        "\n",
        "while poema != 'CDA':\n",
        "    print(poema)\n",
        "    poema = input()\n",
        "  \n",
        "if poema == 'CDA':\n",
        "   print('CDA 1942')"
      ],
      "metadata": {
        "id": "coE7N5zFDc64"
      },
      "execution_count": null,
      "outputs": []
    },
    {
      "cell_type": "markdown",
      "source": [
        "3 While #2 counter"
      ],
      "metadata": {
        "id": "8MaSFUE6GrZJ"
      }
    },
    {
      "cell_type": "code",
      "source": [
        "poema = input()\n",
        "contador = 0\n",
        "while poema != 'CDA 1942':\n",
        "    contador = contador + 1\n",
        "    poema = input()\n",
        "\n",
        "print(contador)\n"
      ],
      "metadata": {
        "id": "-JAN05EKGv6g",
        "colab": {
          "base_uri": "https://localhost:8080/"
        },
        "outputId": "46706da6-8307-45f9-fb5c-ae2a587a0555"
      },
      "execution_count": null,
      "outputs": [
        {
          "output_type": "stream",
          "name": "stdout",
          "text": [
            "CDA 1942\n",
            "0\n"
          ]
        }
      ]
    },
    {
      "cell_type": "markdown",
      "source": [
        "4\n",
        "While #2 count if no empty"
      ],
      "metadata": {
        "id": "9Dk_D9g3qvvu"
      }
    },
    {
      "cell_type": "code",
      "source": [
        "fim = []\n",
        "letra = '' \n",
        "contador = 0\n",
        "\n",
        "while True:\n",
        "  letra = input()\n",
        "  if letra != 'CDA 1942':\n",
        "    fim.append(letra)\n",
        "  else:\n",
        "     break\n",
        "  if letra == '':\n",
        "        contador += 1\n",
        "  \n",
        "cont = len(fim)\n",
        "print(cont - contador)"
      ],
      "metadata": {
        "id": "BM5QBlnAqwEO"
      },
      "execution_count": null,
      "outputs": []
    },
    {
      "cell_type": "markdown",
      "source": [
        "5 Compras**, itens, saldo (while)"
      ],
      "metadata": {
        "id": "lq0aHjzNep-d"
      }
    },
    {
      "cell_type": "code",
      "source": [
        "cont = 0\n",
        "valor = float(input())\n",
        "\n",
        "while True:\n",
        "    item = float(input())\n",
        "    if valor < item or valor == 0:\n",
        "      break\n",
        "    \n",
        "    cont += 1\n",
        "    valor -= item\n",
        "\n",
        "print('Número de itens', cont)\n",
        "print('Saldo:', '{:.2f}'.format(valor))"
      ],
      "metadata": {
        "id": "iEJJtPcFe_63"
      },
      "execution_count": null,
      "outputs": []
    },
    {
      "cell_type": "markdown",
      "source": [
        "6 Infinito enquanto dure"
      ],
      "metadata": {
        "id": "WQfJ9P4XqvBv"
      }
    },
    {
      "cell_type": "code",
      "source": [
        "cont = 0\n",
        "condicao = input()\n",
        "\n",
        "while True:\n",
        "  linha = input()\n",
        "  if linha == condicao:\n",
        "    break\n",
        "\n",
        "  cont += 1\n",
        "  \n",
        "print(cont)"
      ],
      "metadata": {
        "id": "Pu0KZbyxlcLl",
        "colab": {
          "base_uri": "https://localhost:8080/"
        },
        "outputId": "2d5b4f11-e724-4cb4-dd59-b8c8852f510c"
      },
      "execution_count": null,
      "outputs": [
        {
          "output_type": "stream",
          "name": "stdout",
          "text": [
            "b\n",
            "s\n",
            "f\n",
            "g\n",
            "s\n",
            "b\n",
            "4\n"
          ]
        }
      ]
    },
    {
      "cell_type": "markdown",
      "source": [
        "7 Uma letra de cada vez #1"
      ],
      "metadata": {
        "id": "dOM7iHjJbQh-"
      }
    },
    {
      "cell_type": "code",
      "source": [
        "palavra = \"Python\"\n",
        "\n",
        "for letra in palavra:\n",
        "  print(letra)\n",
        "\n",
        "  "
      ],
      "metadata": {
        "id": "9IJwjDckcoDn"
      },
      "execution_count": null,
      "outputs": []
    },
    {
      "cell_type": "code",
      "source": [
        "palavra = input()\n",
        "\n",
        "while palavra:\n",
        "  print(palavra[0])\n",
        "  palavra = palavra[1:]"
      ],
      "metadata": {
        "id": "kid68tZDduZd"
      },
      "execution_count": null,
      "outputs": []
    },
    {
      "cell_type": "code",
      "source": [
        "palavra = input()\n",
        "p =  ''\n",
        "\n",
        "\n",
        "while True:\n",
        "  letra = input()\n",
        "  if letra =='.':\n",
        "    break\n",
        "  p += letra\n",
        "if p == palavra:\n",
        "  print(True) \n",
        "else:\n",
        "  print(False)"
      ],
      "metadata": {
        "id": "2Jaz-J4IeGQW",
        "colab": {
          "base_uri": "https://localhost:8080/"
        },
        "outputId": "9148fc39-d2c9-4c42-a7e8-333c80420493"
      },
      "execution_count": null,
      "outputs": [
        {
          "output_type": "stream",
          "name": "stdout",
          "text": [
            "muito\n",
            "m\n",
            "u\n",
            "i\n",
            "n\n",
            "t\n",
            "o\n",
            ".\n",
            "False\n"
          ]
        }
      ]
    },
    {
      "cell_type": "markdown",
      "source": [
        "8 Soletrando: até acertar!"
      ],
      "metadata": {
        "id": "er577XltEmbj"
      }
    },
    {
      "cell_type": "code",
      "source": [
        "palavra = input()\n",
        "\n",
        "while True:\n",
        "  p =  ''\n",
        "  while True:\n",
        "   letra = input()\n",
        "   if letra == '.':\n",
        "     if p == palavra:\n",
        "      print('8-)') \n",
        "      exit()\n",
        "     else: \n",
        "      print('8-|')\n",
        "      break\n",
        "   else:\n",
        "       p += letra\n",
        "\n"
      ],
      "metadata": {
        "id": "ej_aerc5Eopk"
      },
      "execution_count": null,
      "outputs": []
    },
    {
      "cell_type": "markdown",
      "source": [
        "9 Volei #7"
      ],
      "metadata": {
        "id": "7i1rxRufJOkC"
      }
    },
    {
      "cell_type": "code",
      "source": [],
      "metadata": {
        "id": "_DOTYSLIJXA6"
      },
      "execution_count": null,
      "outputs": []
    },
    {
      "cell_type": "markdown",
      "source": [
        "10 if while"
      ],
      "metadata": {
        "id": "i2AGfNtbNKG5"
      }
    },
    {
      "cell_type": "code",
      "source": [
        "memoria_atual = 0\n",
        "memoria_maxima = 0\n",
        "\n",
        "while True:\n",
        "  requisicao = int(input())\n",
        "\n",
        "  if requisicao == 0:\n",
        "     break\n",
        "\n",
        "  memoria_atual += requisicao\n",
        "\n",
        "  if memoria_atual > memoria_maxima:\n",
        "      memoria_maxima = memoria_atual\n",
        "\n",
        "print(memoria_maxima)\n"
      ],
      "metadata": {
        "id": "HAWfB6N2NNuu"
      },
      "execution_count": null,
      "outputs": []
    },
    {
      "cell_type": "markdown",
      "source": [
        "11 Ajude a turma!"
      ],
      "metadata": {
        "id": "NVXDJj9shopu"
      }
    },
    {
      "cell_type": "code",
      "source": [
        "cont = 0\n",
        "valor_minimo = int(input())\n",
        "conjunto = int(input())\n",
        "\n",
        "while cont <= valor_minimo:\n",
        "    cont += conjunto\n",
        "\n",
        "    if cont >= valor_minimo:\n",
        "      break\n",
        "    conjunto = int(input())\n",
        "\n",
        "\n",
        "sobra = cont - valor_minimo\n",
        "\n",
        "print('minimo', valor_minimo)\n",
        "print('total', cont)\n",
        "print('sobra', sobra)"
      ],
      "metadata": {
        "id": "NvrhCE2qhqlG",
        "colab": {
          "base_uri": "https://localhost:8080/"
        },
        "outputId": "3fd50402-169c-4d50-8f44-d6d4a0ed31e5"
      },
      "execution_count": null,
      "outputs": [
        {
          "output_type": "stream",
          "name": "stdout",
          "text": [
            "8\n",
            "2\n",
            "2\n",
            "2\n",
            "2\n",
            "mínimo 8\n",
            "total 8\n",
            "sobra 0\n"
          ]
        }
      ]
    },
    {
      "cell_type": "code",
      "source": [
        "cont = 0\n",
        "valorMinimo = int(input(\"Digite o valor mínimo esperado: \"))\n",
        "conjunto = int(input(\"Digite um conjunto de valores (-1 para sair): \"))\n",
        "\n",
        "while conjunto != -1:\n",
        "    cont += conjunto\n",
        "\n",
        "    if cont >= valorMinimo:\n",
        "        break\n",
        "    \n",
        "    conjunto = int(input(\"Digite um conjunto de valores (-1 para sair): \"))\n",
        "\n",
        "sobra = cont - valorMinimo\n",
        "\n",
        "print('mínimo', valorMinimo)\n",
        "print('total', cont)\n",
        "print('sobra', sobra)\n"
      ],
      "metadata": {
        "colab": {
          "base_uri": "https://localhost:8080/"
        },
        "id": "ZIqwVWOcBXvp",
        "outputId": "ae1bda12-afa9-439c-cc6a-590bc4252151"
      },
      "execution_count": null,
      "outputs": [
        {
          "output_type": "stream",
          "name": "stdout",
          "text": [
            "Digite o valor mínimo esperado: 5\n",
            "Digite um conjunto de valores (-1 para sair): 1\n",
            "Digite um conjunto de valores (-1 para sair): 2\n",
            "Digite um conjunto de valores (-1 para sair): 3\n",
            "mínimo 5\n",
            "total 6\n",
            "sobra 1\n"
          ]
        }
      ]
    },
    {
      "cell_type": "markdown",
      "source": [
        "14 QUATRO"
      ],
      "metadata": {
        "id": "H63VyfGNjmex"
      }
    },
    {
      "cell_type": "code",
      "source": [
        "quant_vagas = int(input())\n",
        "alunos = []\n",
        "aluno = input()\n",
        "\n",
        "while aluno != '.':\n",
        "      alunos.append(aluno)\n",
        "      aluno = input()\n",
        "   \n",
        "quant_inscritos = len(alunos)\n",
        "\n",
        "if quant_inscritos > quant_vagas:\n",
        "        print('vagas faltando: ', quant_inscritos - quant_vagas )\n",
        "else:\n",
        "        print('vagas sobrando: ', quant_vagas - quant_inscritos)"
      ],
      "metadata": {
        "id": "F-zPYKb5jp33",
        "colab": {
          "base_uri": "https://localhost:8080/"
        },
        "outputId": "0f087899-7204-4fd2-c2f4-69c7bf4cd641"
      },
      "execution_count": null,
      "outputs": [
        {
          "output_type": "stream",
          "name": "stdout",
          "text": [
            "5\n",
            "bete\n",
            "bia\n",
            "brunna\n",
            "bianca\n",
            "barbara\n",
            "benita\n",
            ".\n",
            "vagas faltando:  1\n"
          ]
        }
      ]
    },
    {
      "cell_type": "markdown",
      "source": [
        "15 AR"
      ],
      "metadata": {
        "id": "MZOb1xAZSna1"
      }
    },
    {
      "cell_type": "code",
      "source": [
        "cont = 0\n",
        "resposta = input()\n",
        "\n",
        "while resposta != 'timeout' :\n",
        "   if resposta == 'accepted':\n",
        "      cont += 1\n",
        "   resposta = input()\n",
        "  \n",
        "print(cont)"
      ],
      "metadata": {
        "id": "epZwWgY9SqBr"
      },
      "execution_count": null,
      "outputs": []
    },
    {
      "cell_type": "markdown",
      "source": [
        "16 Problemas aceitos"
      ],
      "metadata": {
        "id": "EsygF-faVZ2I"
      }
    },
    {
      "cell_type": "code",
      "source": [
        "problemas_aceitos = []\n",
        "\n",
        "while True:\n",
        "    resultado = input()\n",
        "    \n",
        "    if resultado == \"timeout\":\n",
        "        break\n",
        "    \n",
        "    problema, status = resultado.split()\n",
        "    \n",
        "    if problema == \"accepted\":\n",
        "        problemas_aceitos.append(\"Yes\")\n",
        "    else:\n",
        "        problemas_aceitos.append(\"No\")\n",
        "\n",
        "# Imprime os problemas aceitos antes do tempo terminar\n",
        "for resposta in problemas_aceitos:\n",
        "    print(resposta)\n"
      ],
      "metadata": {
        "id": "kj8PUR4rVd0V"
      },
      "execution_count": null,
      "outputs": []
    }
  ]
}