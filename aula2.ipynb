{
  "nbformat": 4,
  "nbformat_minor": 0,
  "metadata": {
    "colab": {
      "provenance": [],
      "authorship_tag": "ABX9TyMnnWgxHMTcIzOrHap76B0q",
      "include_colab_link": true
    },
    "kernelspec": {
      "name": "python3",
      "display_name": "Python 3"
    },
    "language_info": {
      "name": "python"
    }
  },
  "cells": [
    {
      "cell_type": "markdown",
      "metadata": {
        "id": "view-in-github",
        "colab_type": "text"
      },
      "source": [
        "<a href=\"https://colab.research.google.com/github/bglassesgirl/meninas-programadoras/blob/main/aula2.ipynb\" target=\"_parent\"><img src=\"https://colab.research.google.com/assets/colab-badge.svg\" alt=\"Open In Colab\"/></a>"
      ]
    },
    {
      "cell_type": "code",
      "execution_count": null,
      "metadata": {
        "id": "2BYh8K_dPYsq"
      },
      "outputs": [],
      "source": []
    },
    {
      "cell_type": "markdown",
      "source": [
        "1° Par ou impar \n"
      ],
      "metadata": {
        "id": "aCYSoR2lPhEA"
      }
    },
    {
      "cell_type": "code",
      "source": [
        "numero = int(input())\n",
        "if numero % 2 == 0:\n",
        "  print('S')\n",
        "else:\n",
        "  print('N')\n"
      ],
      "metadata": {
        "colab": {
          "base_uri": "https://localhost:8080/"
        },
        "id": "g0r9SQzRPqAE",
        "outputId": "f59af50b-30e5-45f5-f4b1-c15761898422"
      },
      "execution_count": null,
      "outputs": [
        {
          "output_type": "stream",
          "name": "stdout",
          "text": [
            "1\n",
            "N\n"
          ]
        }
      ]
    },
    {
      "cell_type": "markdown",
      "source": [
        "2° bandeira do brasil\n",
        "- figuras geometricas e suas cores"
      ],
      "metadata": {
        "id": "eiDDpD_MQ9Gv"
      }
    },
    {
      "cell_type": "code",
      "source": [
        "cor = input()\n",
        "\n",
        "if cor == 'azul':\n",
        "   print ('circunferência')\n",
        "elif cor == 'amarelo':\n",
        "  print('losango')\n",
        "elif cor == 'branco':\n",
        "   print ('faixa')\n",
        "elif cor == 'verde':\n",
        "  print('retângulo')\n",
        "else:\n",
        "  print('não tem essa cor')\n"
      ],
      "metadata": {
        "colab": {
          "base_uri": "https://localhost:8080/"
        },
        "id": "WFlniUooRDr6",
        "outputId": "13592f55-d954-4df7-a8e0-73d22df310e6"
      },
      "execution_count": null,
      "outputs": [
        {
          "output_type": "stream",
          "name": "stdout",
          "text": [
            "vermelho\n",
            "não tem essa cor\n"
          ]
        }
      ]
    },
    {
      "cell_type": "markdown",
      "source": [
        "3° semáforo \n",
        "- ler a cores e avançar ou não avançar "
      ],
      "metadata": {
        "id": "326-DOrsWvb2"
      }
    },
    {
      "cell_type": "code",
      "source": [
        "semaforo = str(input())\n",
        "\n",
        "if semaforo == 'verde':\n",
        "   print('avançar')\n",
        "elif semaforo == 'amarelo':\n",
        "   print('parar')\n",
        "elif semaforo == 'vermelho':\n",
        "   print('parar')\n",
        "else:\n",
        "  print('não existe essa cor para o semaforo')\n"
      ],
      "metadata": {
        "colab": {
          "base_uri": "https://localhost:8080/"
        },
        "id": "ewvepBXkW0Tm",
        "outputId": "a748b7b2-a3e8-48fb-ba66-6710b0254762"
      },
      "execution_count": null,
      "outputs": [
        {
          "output_type": "stream",
          "name": "stdout",
          "text": [
            "verde\n",
            "avançar\n"
          ]
        }
      ]
    },
    {
      "cell_type": "markdown",
      "source": [
        "4° compra responsável\n",
        "- ler dois numeros\n",
        "o primeiro é o valor que tem na conta, o segundo o valor da compra \n",
        "- o programa fala se de acordo com o saldo 'pode comprar tudo' ou se \n",
        "'saldo insuficiente'"
      ],
      "metadata": {
        "id": "GUZhOq6sXyI2"
      }
    },
    {
      "cell_type": "code",
      "source": [
        "saldo = int(input())\n",
        "carrinho = int(input())\n",
        "\n",
        "if saldo >= carrinho: \n",
        "  print('pode comprar tudo')\n",
        "else: \n",
        "  print('saldo insuficiente')"
      ],
      "metadata": {
        "colab": {
          "base_uri": "https://localhost:8080/"
        },
        "id": "SAOmFK_RYPJF",
        "outputId": "3c6dee9d-68bf-409f-9905-41afafd53709"
      },
      "execution_count": null,
      "outputs": [
        {
          "output_type": "stream",
          "name": "stdout",
          "text": [
            "100\n",
            "110\n",
            "saldo insuficiente\n"
          ]
        }
      ]
    },
    {
      "cell_type": "markdown",
      "source": [
        "5° compra responsável otimizada\n",
        "\n",
        "ler dois numeros o primeiro é o valor que tem na conta, o segundo o valor da compra\n",
        "o programa fala se de acordo com o saldo 'se você comprar tudo o saldo será: 1000' ou se 'seu saldo é insuficiente para essa compra'"
      ],
      "metadata": {
        "id": "qtWM0WBg0Mgo"
      }
    },
    {
      "cell_type": "code",
      "source": [
        "saldo = int(input())\n",
        "carrinho = int(input())\n",
        "\n",
        "if saldo >= carrinho: \n",
        "  print('se você comprar tudo o saldo será: ', (saldo-carrinho))\n",
        "else: \n",
        "  print('seu saldo é insuficiente para essa compra')"
      ],
      "metadata": {
        "colab": {
          "base_uri": "https://localhost:8080/"
        },
        "id": "i9goFYQn0fkw",
        "outputId": "664849ae-2e56-4144-d056-21e6bcaca2ad"
      },
      "execution_count": null,
      "outputs": [
        {
          "output_type": "stream",
          "name": "stdout",
          "text": [
            "100\n",
            "87\n",
            "se você comprar tudo o saldo será:  13\n"
          ]
        }
      ]
    },
    {
      "cell_type": "markdown",
      "source": [
        "6° idade para votar\n"
      ],
      "metadata": {
        "id": "-o5EGwA81Wqr"
      }
    },
    {
      "cell_type": "code",
      "source": [
        "idade = int(input())\n",
        "\n",
        "if idade >= 16:\n",
        "  print('Tem idade para votar')\n",
        "else:\n",
        "  print('Jovem demais para votar, espere até 16')"
      ],
      "metadata": {
        "colab": {
          "base_uri": "https://localhost:8080/"
        },
        "id": "xyJVaA9g1b4t",
        "outputId": "fc804496-b66c-4814-82b1-cfb69d5936e6"
      },
      "execution_count": null,
      "outputs": [
        {
          "output_type": "stream",
          "name": "stdout",
          "text": [
            "4\n",
            "Jovem demais para votar, espere até 16\n"
          ]
        }
      ]
    },
    {
      "cell_type": "markdown",
      "source": [
        "7e o voto é obrigatorio ou facultativo?\n"
      ],
      "metadata": {
        "id": "4LByl0f92o2m"
      }
    },
    {
      "cell_type": "code",
      "source": [
        "idade = int(input())\n",
        "\n",
        "if idade >= 16 and idade < 18 or idade >=70:\n",
        "  print('Seu voto é facultativo: você pode votar ou não')\n",
        "elif idade >= 18 and idade < 70:\n",
        "  print('Seu voto é obrigatório') \n",
        "else:\n",
        "  print('Jovem demais para votar, espere até 16')"
      ],
      "metadata": {
        "colab": {
          "base_uri": "https://localhost:8080/"
        },
        "id": "R2JYoipy2uND",
        "outputId": "8884e564-d9cd-409d-c5b1-b41fe10dcd30"
      },
      "execution_count": null,
      "outputs": [
        {
          "output_type": "stream",
          "name": "stdout",
          "text": [
            "14\n",
            "Jovem demais para votar, espere até 16\n"
          ]
        }
      ]
    },
    {
      "cell_type": "markdown",
      "source": [
        "8° més do ano"
      ],
      "metadata": {
        "id": "6wlofS7Rq5BI"
      }
    },
    {
      "cell_type": "code",
      "source": [
        "mes = int(input())\n",
        "\n",
        "if mes == 1:\n",
        "  print('jan')\n",
        "elif mes == 2:\n",
        "  print('fev')\n",
        "elif mes == 3:\n",
        "   print('mar')\n",
        "elif mes == 4:\n",
        "   print('abr') \n",
        "elif mes == 5:\n",
        "   print('mai')\n",
        "elif mes == 6:\n",
        "   print('jun')\n",
        "elif mes == 7:\n",
        "   print('jul')\n",
        "elif mes == 8:\n",
        "   print('ago')\n",
        "elif mes == 9:\n",
        "   print('set')\n",
        "elif mes == 10:\n",
        "   print('out')\n",
        "elif mes == 11:\n",
        "   print('nov')\n",
        "elif mes == 12:\n",
        "   print('dez')\n",
        "else:\n",
        "  print('mês não existe')"
      ],
      "metadata": {
        "colab": {
          "base_uri": "https://localhost:8080/"
        },
        "id": "Hq4bFCb1q7u-",
        "outputId": "ebbcaf9b-afdc-430a-efc6-83da3bc87809"
      },
      "execution_count": null,
      "outputs": [
        {
          "output_type": "stream",
          "name": "stdout",
          "text": [
            "Digite um numero de 1 a 12 correspondente a um mês desejado: 6\n",
            "jun\n"
          ]
        }
      ]
    },
    {
      "cell_type": "markdown",
      "source": [],
      "metadata": {
        "id": "qP0a1HNM1bPh"
      }
    },
    {
      "cell_type": "markdown",
      "source": [
        "9° final de placa "
      ],
      "metadata": {
        "id": "z7_yIAx7wTnR"
      }
    },
    {
      "cell_type": "code",
      "source": [
        "numero_placa = int(input())\n",
        "\n",
        "final_placa = numero_placa % 10\n",
        "\n",
        "print(final_placa)"
      ],
      "metadata": {
        "colab": {
          "base_uri": "https://localhost:8080/"
        },
        "id": "pvS_kSgFwY-I",
        "outputId": "90cbdf49-d2c7-4b12-c0f2-f5cdb633059c"
      },
      "execution_count": null,
      "outputs": [
        {
          "output_type": "stream",
          "name": "stdout",
          "text": [
            "Digite o número da placa:  8755\n",
            "O último digito da placa informada é: 5\n"
          ]
        }
      ]
    },
    {
      "cell_type": "markdown",
      "source": [
        "10° final de placa e qual dia nao pode rodar "
      ],
      "metadata": {
        "id": "fQB-nrpi1cLn"
      }
    },
    {
      "cell_type": "code",
      "source": [
        "numero_placa = str(input())\n",
        "numero_placa = int(numero_placa)\n",
        "\n",
        "final_placa = numero_placa % 10\n",
        "\n",
        "if final_placa == 1 or final_placa == 2:\n",
        "  print('segunda-feira')\n",
        "elif final_placa == 3 or final_placa ==  4:\n",
        "  print('terça-feira')\n",
        "elif final_placa == 5 or final_placa ==  6:\n",
        "  print('quarta-feira')\n",
        "elif final_placa == 7 or final_placa ==  8:\n",
        "  print('quinta-feira')\n",
        "elif final_placa == 9 or final_placa ==  0:\n",
        "  print('sexta-feira')\n"
      ],
      "metadata": {
        "colab": {
          "base_uri": "https://localhost:8080/"
        },
        "id": "Pw-8RxR01h-T",
        "outputId": "cfd574e4-173f-4a5a-be3d-3a38bef55989"
      },
      "execution_count": null,
      "outputs": [
        {
          "output_type": "stream",
          "name": "stdout",
          "text": [
            "Digite o número da placa: 3483\n",
            "terça-feira\n"
          ]
        }
      ]
    },
    {
      "cell_type": "markdown",
      "source": [
        "11° valores romanos\n",
        "I, V, X, L, C, D, M"
      ],
      "metadata": {
        "id": "reb05_UU7cL-"
      }
    },
    {
      "cell_type": "code",
      "source": [
        "letra = str(input())\n",
        "\n",
        "if letra == 'I':\n",
        "  print(1)\n",
        "elif letra == 'V':\n",
        "  print(5) \n",
        "elif letra == 'X':\n",
        "  print(10) \n",
        "elif letra == 'L':\n",
        "  print(50) \n",
        "elif letra == 'C':\n",
        "  print(100) \n",
        "elif letra == 'D':\n",
        "  print(500) \n",
        "elif letra == 'M':\n",
        "  print(1000) \n"
      ],
      "metadata": {
        "colab": {
          "base_uri": "https://localhost:8080/"
        },
        "id": "I0S1_mVS7hQL",
        "outputId": "0026d0f0-d889-480c-bc26-fbe0e82917d8"
      },
      "execution_count": null,
      "outputs": [
        {
          "output_type": "stream",
          "name": "stdout",
          "text": [
            "Qual letra: I, V, X, L, C, D, M você quer o valor correspondente em n° romano?X\n",
            "10\n"
          ]
        }
      ]
    },
    {
      "cell_type": "markdown",
      "source": [
        "12° qual o século?\n"
      ],
      "metadata": {
        "id": "0PHqaQv8-t67"
      }
    },
    {
      "cell_type": "code",
      "source": [
        "ano = int(input())\n",
        "\n",
        "seculo = (ano - 1) // 100 + 1\n",
        "\n",
        "print(seculo)"
      ],
      "metadata": {
        "id": "UaZBLESe-y8L",
        "colab": {
          "base_uri": "https://localhost:8080/"
        },
        "outputId": "281bb8a2-249b-4a40-c6df-b74541f35f11"
      },
      "execution_count": null,
      "outputs": [
        {
          "output_type": "stream",
          "name": "stdout",
          "text": [
            "2000\n",
            "20\n"
          ]
        }
      ]
    },
    {
      "cell_type": "markdown",
      "source": [
        "13° aswd\n",
        "- qual a função das teclas no jogo"
      ],
      "metadata": {
        "id": "g_RbYlj1038H"
      }
    },
    {
      "cell_type": "code",
      "source": [
        "key = str(input())\n",
        "\n",
        "if key == 'w' or key == 'W':\n",
        "  print('UP')\n",
        "elif key == 'a'or key == 'A':\n",
        "  print('LEFT')\n",
        "elif key == 'd' or key == 'D':\n",
        "  print('RIGHT')\n",
        "elif key == 's' or key == 'S':\n",
        "  print('DOWN')\n",
        "else: \n",
        "  print('?')"
      ],
      "metadata": {
        "colab": {
          "base_uri": "https://localhost:8080/"
        },
        "id": "IK2WUw1S1RHE",
        "outputId": "0cf62295-e109-4f8d-9610-2ab3fb7d23a6"
      },
      "execution_count": null,
      "outputs": [
        {
          "output_type": "stream",
          "name": "stdout",
          "text": [
            "W\n",
            "UP\n"
          ]
        }
      ]
    },
    {
      "cell_type": "markdown",
      "source": [
        "14° ** + - * / // %\n"
      ],
      "metadata": {
        "id": "_a7dvowd2iNs"
      }
    },
    {
      "cell_type": "code",
      "source": [
        "operacao = str(input())\n",
        "num1 = int(input())\n",
        "num2 = int(input())\n",
        "\n",
        "if operacao == '**':\n",
        "  print(num1**num2)\n",
        "elif operacao == '+':\n",
        "  print(num1+num2)\n",
        "elif operacao == '-':\n",
        "  print(num1-num2)\n",
        "elif operacao == '*':\n",
        "  print(num1*num2)\n",
        "elif operacao == '/':\n",
        "  print(num1/num2)\n",
        "elif operacao == '//':\n",
        "  print(num1//num2)\n",
        "elif operacao == '%':\n",
        "  print(num1%num2)"
      ],
      "metadata": {
        "colab": {
          "base_uri": "https://localhost:8080/"
        },
        "id": "lyxu6QGD2n0Z",
        "outputId": "872e1066-d549-468b-f65d-0988071f12d0"
      },
      "execution_count": null,
      "outputs": [
        {
          "output_type": "stream",
          "name": "stdout",
          "text": [
            "/\n",
            "10\n",
            "5\n",
            "2.0\n"
          ]
        }
      ]
    },
    {
      "cell_type": "markdown",
      "source": [
        "15° Volley #2"
      ],
      "metadata": {
        "id": "pvtiRC9d5RVb"
      }
    },
    {
      "cell_type": "code",
      "source": [
        "time1 = int(input())\n",
        "time2= int(input())\n",
        "\n",
        "if time1 - time2 >= 2 or time2 - time1 >= 2:\n",
        "  print('S')\n",
        "else:\n",
        "  print('N')"
      ],
      "metadata": {
        "colab": {
          "base_uri": "https://localhost:8080/"
        },
        "id": "s4rmGwIB5UcD",
        "outputId": "108f0f7e-b539-47aa-897c-6016f32105a2"
      },
      "execution_count": null,
      "outputs": [
        {
          "output_type": "stream",
          "name": "stdout",
          "text": [
            "25\n",
            "24\n",
            "N\n"
          ]
        }
      ]
    },
    {
      "cell_type": "markdown",
      "source": [
        "16° Maior Menor"
      ],
      "metadata": {
        "id": "HRE4EEt4USG8"
      }
    },
    {
      "cell_type": "code",
      "source": [
        "n1 = int(input())\n",
        "n2 = int(input())\n",
        "\n",
        "maior = n1\n",
        "menor = n2\n",
        "\n",
        "if n2 > n1:\n",
        "  maior = n2\n",
        "  menor = n1\n",
        "  \n",
        "print('maior: ', maior)\n",
        "print('menor: ', menor)\n"
      ],
      "metadata": {
        "colab": {
          "base_uri": "https://localhost:8080/"
        },
        "id": "-KLNizenUVGl",
        "outputId": "3102c797-c56b-4337-da36-2de331af491d"
      },
      "execution_count": null,
      "outputs": [
        {
          "output_type": "stream",
          "name": "stdout",
          "text": [
            "3\n",
            "13\n",
            "menor:  3\n",
            "maior:  13\n"
          ]
        }
      ]
    },
    {
      "cell_type": "markdown",
      "source": [
        "17°"
      ],
      "metadata": {
        "id": "gwOQ9ZRZcHtv"
      }
    },
    {
      "cell_type": "code",
      "source": [
        "n1 = int(input())\n",
        "n2 = int(input())\n",
        "n3 = int(input())\n",
        "\n",
        "maior = n1\n",
        "menor = n2\n",
        "\n",
        "if n2 > n1:\n",
        "  maior = n2\n",
        "  menor = n1\n",
        "\n",
        "if n3 > maior:\n",
        "  maior = n3\n",
        "elif n3 < maior:\n",
        "  menor = n3\n",
        "\n",
        "print('maior: ', maior)\n",
        "print('menor: ', menor)"
      ],
      "metadata": {
        "colab": {
          "base_uri": "https://localhost:8080/"
        },
        "id": "YiqkwAL_cJke",
        "outputId": "2b4f8ebd-c26f-4d93-d15f-214db9b175d0"
      },
      "execution_count": null,
      "outputs": [
        {
          "output_type": "stream",
          "name": "stdout",
          "text": [
            "3\n",
            "2\n",
            "1\n",
            "maior:  3\n",
            "menor:  1\n"
          ]
        }
      ]
    },
    {
      "cell_type": "code",
      "source": [],
      "metadata": {
        "id": "xrDooNpVnKLu"
      },
      "execution_count": null,
      "outputs": []
    },
    {
      "cell_type": "markdown",
      "source": [
        "18°"
      ],
      "metadata": {
        "id": "z3nzQDR2fmW2"
      }
    },
    {
      "cell_type": "code",
      "source": [
        "a = str(input())\n",
        "b = str(input())\n",
        "\n",
        "if a in b:\n",
        "  print(a, 'in', b)\n",
        "else: \n",
        "   print(a, 'not in', b)"
      ],
      "metadata": {
        "colab": {
          "base_uri": "https://localhost:8080/"
        },
        "id": "0t60u4cCms_4",
        "outputId": "ec669e4d-9a55-4991-adcd-86a588162ca6"
      },
      "execution_count": null,
      "outputs": [
        {
          "output_type": "stream",
          "name": "stdout",
          "text": [
            "meninas\n",
            "programadoras\n",
            "meninas not in programadoras\n"
          ]
        }
      ]
    },
    {
      "cell_type": "markdown",
      "source": [
        "19°"
      ],
      "metadata": {
        "id": "595eU5VGn60n"
      }
    },
    {
      "cell_type": "code",
      "source": [
        "a = str(input())\n",
        "\n",
        "if a in 'aeiou' :\n",
        "  print('vogal')\n",
        "elif a in 'AEIOU':\n",
        "  print('vogal')\n",
        "elif a in '@#$%&*()_-+=!':\n",
        "  print('especial')\n",
        "elif a in '1234567890':\n",
        "  print('algarismo')\n",
        "else:\n",
        "  print('outro')"
      ],
      "metadata": {
        "colab": {
          "base_uri": "https://localhost:8080/"
        },
        "id": "4AWcK7Etn83_",
        "outputId": "a7e1cc60-8260-4b86-a5c8-4bf954a536c4"
      },
      "execution_count": null,
      "outputs": [
        {
          "output_type": "stream",
          "name": "stdout",
          "text": [
            "A\n",
            "vogal\n"
          ]
        }
      ]
    },
    {
      "cell_type": "markdown",
      "source": [
        "20°"
      ],
      "metadata": {
        "id": "3YMJkYS9qovq"
      }
    },
    {
      "cell_type": "code",
      "source": [
        "a = str(input()) \n",
        "b = str(input()) \n",
        "c = str(input()) \n",
        "\n",
        "if a in b and a in c:\n",
        " print(a, 'CONTIDO EM ' b, 'E', a 'CONTIDO EM', c)\n",
        "else:\n",
        " print()"
      ],
      "metadata": {
        "id": "I_JX4OWOqp_H"
      },
      "execution_count": null,
      "outputs": []
    }
  ]
}