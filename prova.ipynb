{
  "nbformat": 4,
  "nbformat_minor": 0,
  "metadata": {
    "colab": {
      "provenance": [],
      "authorship_tag": "ABX9TyMWeM3l4Wr3CI20f5WQuaGD",
      "include_colab_link": true
    },
    "kernelspec": {
      "name": "python3",
      "display_name": "Python 3"
    },
    "language_info": {
      "name": "python"
    }
  },
  "cells": [
    {
      "cell_type": "markdown",
      "metadata": {
        "id": "view-in-github",
        "colab_type": "text"
      },
      "source": [
        "<a href=\"https://colab.research.google.com/github/bglassesgirl/meninas-programadoras/blob/main/prova.ipynb\" target=\"_parent\"><img src=\"https://colab.research.google.com/assets/colab-badge.svg\" alt=\"Open In Colab\"/></a>"
      ]
    },
    {
      "cell_type": "code",
      "execution_count": null,
      "metadata": {
        "id": "24ExEh29Ujpl"
      },
      "outputs": [],
      "source": []
    },
    {
      "cell_type": "markdown",
      "source": [
        "## Crianças e jovens vulneráveis #1\n",
        "\n",
        "*   Quando tempo você gasta em redes sociais?\n",
        "\n",
        "Sua tarefa é criar um programa que auxilie na análise do tempo gasto por um jovem em diferentes plataformas de redes sociais. O programa deverá solicitar ao usuário a quantidade de tempo gasto diariamente em três plataformas: TikTok, YouTube e Snapchat. Esses valores devem ser inseridos em minutos. Com base nas respostas fornecidas, o programa deverá calcular o tempo total gasto em redes sociais pelos jovens e exibir o resultado na tela.  \n",
        "\n",
        "\n"
      ],
      "metadata": {
        "id": "DJZPi3g4UmbS"
      }
    },
    {
      "cell_type": "code",
      "source": [
        "t = int(input())\n",
        "y = int(input())\n",
        "s = int(input())\n",
        "\n",
        "print(t+y+s)"
      ],
      "metadata": {
        "colab": {
          "base_uri": "https://localhost:8080/"
        },
        "id": "IEX20XFwUoT4",
        "outputId": "9d721e69-6b22-412b-f3a9-47b6477a0a93"
      },
      "execution_count": 2,
      "outputs": [
        {
          "output_type": "stream",
          "name": "stdout",
          "text": [
            "90\n",
            "90\n",
            "90\n",
            "270\n"
          ]
        }
      ]
    },
    {
      "cell_type": "markdown",
      "source": [
        "## Crianças e jovens vulneráveis #2\n",
        "\n",
        "\n",
        "Seu programa deve informar aos usuários a recomendação de acesso de acordo com a idade fornecida.\n",
        "\n",
        "O programa solicitará ao usuário que informe a idade. Com base nesse valor, o programa fornecerá as seguintes informações:\n",
        "\n",
        "Se a idade for menor que 13 anos, o programa exibirá a seguinte mensagem: \"De acordo com especialistas, é contraindicado o acesso às mídias sociais e telas na sua faixa etária.\"\n",
        "\n",
        "Se a idade estiver entre 10 e 12 anos (inclusive), o programa exibirá a seguinte mensagem: \"Sua idade coloca você entre as jovens mais vulneráveis: jovens de 10 a 12 anos.\"\n",
        "\n",
        "Para idades maiores que 12 anos, o programa exibirá a mensagem: \"Usar as telas ou computadores não é o problema, mas sim como fazemos uso dessas ferramentas.\"\n"
      ],
      "metadata": {
        "id": "qFD5kgX8VMsa"
      }
    },
    {
      "cell_type": "code",
      "source": [
        "idade = int(input())\n",
        "\n",
        "if idade > 12:\n",
        "    print('Usar as telas ou computadores não é o problema, mas sim como fazemos uso dessas ferramentas')\n",
        "if idade < 13:\n",
        "    print('De acordo com especialistas, é contraindicado o acesso às mídias sociais e telas na sua faixa etária')\n",
        "if idade >= 10 and idade <= 12:\n",
        "    print('Sua idade coloca você entre as jovens mais vulneráveis: jovens de 10 a 12 anos')\n"
      ],
      "metadata": {
        "colab": {
          "base_uri": "https://localhost:8080/"
        },
        "id": "T1XswpCWVnNa",
        "outputId": "63d97ec4-82c0-46c6-a88d-35b872267a68"
      },
      "execution_count": 11,
      "outputs": [
        {
          "output_type": "stream",
          "name": "stdout",
          "text": [
            "14\n",
            "Usar as telas ou computadores não é o problema, mas sim como fazemos uso dessas ferramentas.\n"
          ]
        }
      ]
    },
    {
      "cell_type": "markdown",
      "source": [
        "## Crianças e jovens vulneráveis #3\n",
        "Você foi designada para desenvolver um programa que calcule o tempo total gasto em redes sociais, com base nas informações fornecidas pelos usuários.\n",
        "\n",
        "O programa solicitará o número de redes sociais que serão consideradas. Em seguida, para cada rede social, o usuário informará o tempo gasto em horas e minutos separadamente."
      ],
      "metadata": {
        "id": "_f-Uu9glZZmt"
      }
    },
    {
      "cell_type": "code",
      "source": [
        "quant = int(input())\n",
        "cont = 0\n",
        "resultado = 0\n",
        "\n",
        "while True:\n",
        "   hora = int(input())\n",
        "   minutos = int(input())\n",
        "   resultado += (hora*60) + minutos\n",
        "   cont +=1\n",
        "   if quant == cont:\n",
        "    break\n",
        "\n",
        "print(resultado)\n"
      ],
      "metadata": {
        "colab": {
          "base_uri": "https://localhost:8080/"
        },
        "id": "1VkAhAhZZeZR",
        "outputId": "b8bf5dad-017c-452a-fdc4-5cf112569ef7"
      },
      "execution_count": 17,
      "outputs": [
        {
          "output_type": "stream",
          "name": "stdout",
          "text": [
            "3\n",
            "2\n",
            "30\n",
            "2\n",
            "30\n",
            "0\n",
            "92\n",
            "392\n"
          ]
        }
      ]
    },
    {
      "cell_type": "markdown",
      "source": [
        "## Crianças e jovens vulneráveis #4\n",
        "\n",
        "Você se voluntariou para desenvolver um programa que registra e calcula o tempo gasto por usuáros em diferentes redes sociais. O programa solicitará ao usuário o nome da rede social ('Y' para YouTube, 'S' para Snapchat, 'T' para TikTok) e o tempo gasto em minutos para cada uma delas.\n",
        "\n",
        "O programa continuará solicitando o nome da rede social e o tempo gasto até que um ponto final encerre o registro. O programa exibirá o tempo total gasto em cada rede social, bem como o tempo total gasto em todas as redes sociais juntas."
      ],
      "metadata": {
        "id": "UwXnuLJGdB68"
      }
    },
    {
      "cell_type": "code",
      "source": [
        "cont = 0\n",
        "r1 = 0\n",
        "r2 = 0\n",
        "r3 =0 \n",
        "letra = ''\n",
        "\n",
        "while letra != '.':\n",
        "   letra = input()\n",
        "   if letra == '.':\n",
        "    break\n",
        "   tempo = int(input())\n",
        "   cont += tempo\n",
        "\n",
        "   if letra == 'Y':\n",
        "     r1 += tempo\n",
        "   elif letra == 'S':\n",
        "     r2 += tempo\n",
        "   elif letra == 'T':\n",
        "      r3 += tempo\n",
        "\n",
        "print('tiktok:', r3)\n",
        "print('youtube:', r1)\n",
        "print('snapchat:', r2)\n",
        "print('total:', cont)"
      ],
      "metadata": {
        "colab": {
          "base_uri": "https://localhost:8080/"
        },
        "id": "rGQnZUvddLV1",
        "outputId": "f594b745-7095-48e0-a891-b4db27596e6e"
      },
      "execution_count": 22,
      "outputs": [
        {
          "output_type": "stream",
          "name": "stdout",
          "text": [
            "T\n",
            "200\n",
            ".\n",
            "tiktok: 200\n",
            "youtube: 0\n",
            "snapchat: 0\n",
            "total 200\n"
          ]
        }
      ]
    }
  ]
}