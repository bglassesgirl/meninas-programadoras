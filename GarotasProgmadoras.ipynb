{
  "nbformat": 4,
  "nbformat_minor": 0,
  "metadata": {
    "colab": {
      "provenance": [],
      "authorship_tag": "ABX9TyN9nLxRImxpYuWFXzoYQ9QO"
    },
    "kernelspec": {
      "name": "python3",
      "display_name": "Python 3"
    },
    "language_info": {
      "name": "python"
    }
  },
  "cells": [
    {
      "cell_type": "code",
      "execution_count": null,
      "metadata": {
        "id": "QF_HxkS_NWMr"
      },
      "outputs": [],
      "source": []
    },
    {
      "cell_type": "markdown",
      "source": [],
      "metadata": {
        "id": "vGvGn5WjRfOC"
      }
    },
    {
      "cell_type": "markdown",
      "source": [
        "# Código papagaio do beecrowd "
      ],
      "metadata": {
        "id": "R6HBtWL2Nq7Z"
      }
    },
    {
      "cell_type": "code",
      "source": [],
      "metadata": {
        "id": "FhucQAqBO2qN"
      },
      "execution_count": null,
      "outputs": []
    },
    {
      "cell_type": "code",
      "source": [
        "# meu primeiro programa Python\n",
        "\n",
        "# entrada de dados do mundo para o programa\n",
        "linha = input()\n",
        "\n",
        "# saída de dados do programa para o mundo\n",
        "print(linha)"
      ],
      "metadata": {
        "colab": {
          "base_uri": "https://localhost:8080/"
        },
        "id": "pQVYglAONxaq",
        "outputId": "9fa6dae7-9e29-447b-bcac-394b29a7ff3a"
      },
      "execution_count": null,
      "outputs": [
        {
          "output_type": "stream",
          "name": "stdout",
          "text": [
            "luana\n",
            "luana\n"
          ]
        }
      ]
    },
    {
      "cell_type": "markdown",
      "source": [
        "# Atividade semana1"
      ],
      "metadata": {
        "id": "XRlpVBXR_Ss_"
      }
    },
    {
      "cell_type": "markdown",
      "source": [
        "1° papagaio engrçado\n",
        "- repate a palavra duas vezes "
      ],
      "metadata": {
        "id": "Z8lyrAiuAiUM"
      }
    },
    {
      "cell_type": "code",
      "source": [
        "mensagem = input()\n",
        "print(mensagem)\n",
        "print(mensagem)"
      ],
      "metadata": {
        "colab": {
          "base_uri": "https://localhost:8080/"
        },
        "id": "HL3DKtXp_ar5",
        "outputId": "0ce8d114-9c92-44da-f312-d523c5b23dde"
      },
      "execution_count": null,
      "outputs": [
        {
          "output_type": "stream",
          "name": "stdout",
          "text": [
            "luana\n",
            "luana\n",
            "luana\n"
          ]
        }
      ]
    },
    {
      "cell_type": "markdown",
      "source": [
        "2° ZOO\n",
        "- entregas três atributos de um objeto e imprimir na tela o resultado \n",
        "- Um gato tem bigode e pode miar"
      ],
      "metadata": {
        "id": "SBkBI3tfCBDF"
      }
    },
    {
      "cell_type": "code",
      "source": [
        "nome = input()\n",
        "atributo = input()\n",
        "acao = input() \n",
        "\n",
        "print('Um ', nome,  'tem  ', atributo, 'e pode', acao)"
      ],
      "metadata": {
        "id": "NePaoqPvCnLb",
        "colab": {
          "base_uri": "https://localhost:8080/"
        },
        "outputId": "c59dd24f-f07c-4139-a64d-16ff43f8675b"
      },
      "execution_count": null,
      "outputs": [
        {
          "output_type": "stream",
          "name": "stdout",
          "text": [
            "gato\n",
            "pelo\n",
            "miar\n",
            "Um  gato tem   pelo e pode miar\n"
          ]
        }
      ]
    },
    {
      "cell_type": "markdown",
      "source": [
        "3° String Playground #1\n",
        "- Input de tres caracteres\n",
        "- retorna 6 linhas somando os caracteres na ordem inserida"
      ],
      "metadata": {
        "id": "4R5_RsRRJIsc"
      }
    },
    {
      "cell_type": "code",
      "source": [
        "a = input()\n",
        "b = input()\n",
        "c = input()\n",
        "\n",
        "print(a+b)\n",
        "print(a+c)\n",
        "print(b+a)\n",
        "print(b+c)\n",
        "print(c+a)\n",
        "print(c+b)"
      ],
      "metadata": {
        "id": "G2bkFH6mJbB2",
        "colab": {
          "base_uri": "https://localhost:8080/"
        },
        "outputId": "7619f21c-bebb-4c41-f2ba-c519aadbc58d"
      },
      "execution_count": null,
      "outputs": [
        {
          "output_type": "stream",
          "name": "stdout",
          "text": [
            "L\n",
            "U\n",
            "A\n",
            "LU\n",
            "LA\n",
            "UL\n",
            "UA\n",
            "AL\n",
            "AU\n"
          ]
        }
      ]
    },
    {
      "cell_type": "markdown",
      "source": [
        "4° Bem vinda\n",
        "- Inserir nome\n",
        "- Saida de Bem vinda nome"
      ],
      "metadata": {
        "id": "xcnkWEy2Oy_c"
      }
    },
    {
      "cell_type": "code",
      "source": [
        "nome = input()\n",
        "caractere ='Bem-vinda'\n",
        "print(caractere, nome)"
      ],
      "metadata": {
        "id": "SV8UmMPjO5QZ",
        "colab": {
          "base_uri": "https://localhost:8080/"
        },
        "outputId": "d3ac9f40-bb92-44d6-9e55-7e657d882372"
      },
      "execution_count": null,
      "outputs": [
        {
          "output_type": "stream",
          "name": "stdout",
          "text": [
            "Luana\n",
            "Bem vinda  Luana\n"
          ]
        }
      ]
    },
    {
      "cell_type": "markdown",
      "source": [
        "5° Cadastro Light \n",
        "- entrada com uma linha para cada: nome e sobrenome\n",
        "- saida com a junção dos caracteres nome e sobrenome"
      ],
      "metadata": {
        "id": "HHTdhWvcPudr"
      }
    },
    {
      "cell_type": "code",
      "source": [
        "nome = input()\n",
        "sobrenome = input()\n",
        "print(nome, sobrenome)"
      ],
      "metadata": {
        "id": "S4TjFT8XRbUl",
        "colab": {
          "base_uri": "https://localhost:8080/"
        },
        "outputId": "951632cf-d0f9-4610-a8a2-8281a859cd7e"
      },
      "execution_count": null,
      "outputs": [
        {
          "output_type": "stream",
          "name": "stdout",
          "text": [
            "luana\n",
            "braga\n",
            "luana braga\n"
          ]
        }
      ]
    },
    {
      "cell_type": "markdown",
      "source": [
        "6° 1 \n",
        "- Entrada: um inteiro \n",
        "- Saida: o inteiro + 1 \n"
      ],
      "metadata": {
        "id": "tfYMQHRQTXJt"
      }
    },
    {
      "cell_type": "code",
      "source": [
        "inteiro = int(input())\n",
        "print(inteiro+1)"
      ],
      "metadata": {
        "id": "E-A9iXISTh1w",
        "colab": {
          "base_uri": "https://localhost:8080/"
        },
        "outputId": "4a95cd67-3bf8-4cb7-b088-2ab5e8c46e5e"
      },
      "execution_count": null,
      "outputs": [
        {
          "output_type": "stream",
          "name": "stdout",
          "text": [
            "19\n",
            "20\n"
          ]
        }
      ]
    },
    {
      "cell_type": "markdown",
      "source": [
        "7° 2\n",
        "- ler um inteiro e calcular o valor anterior \n"
      ],
      "metadata": {
        "id": "IZn5yyogT_Y7"
      }
    },
    {
      "cell_type": "code",
      "source": [
        "inteiro = int(input())\n",
        "anterior = inteiro - 1\n",
        "print(anterior)"
      ],
      "metadata": {
        "id": "pgrKoXCBUVtd",
        "colab": {
          "base_uri": "https://localhost:8080/"
        },
        "outputId": "31c94401-8dc1-4e46-c5a5-ac177431da2a"
      },
      "execution_count": null,
      "outputs": [
        {
          "output_type": "stream",
          "name": "stdout",
          "text": [
            "19\n",
            "18\n"
          ]
        }
      ]
    },
    {
      "cell_type": "markdown",
      "source": [
        "8° 3 \n",
        "- calcular o dobro do valor lido "
      ],
      "metadata": {
        "id": "cdvHe3Z3GdS5"
      }
    },
    {
      "cell_type": "code",
      "source": [
        "valor = int(input())\n",
        "calculo = valor*2\n",
        "print(calculo)"
      ],
      "metadata": {
        "colab": {
          "base_uri": "https://localhost:8080/"
        },
        "id": "40SyygmhGy0s",
        "outputId": "746fc054-b11a-43d8-8d0a-6f727ba15ee4"
      },
      "execution_count": null,
      "outputs": [
        {
          "output_type": "stream",
          "name": "stdout",
          "text": [
            "100\n",
            "200\n"
          ]
        }
      ]
    },
    {
      "cell_type": "markdown",
      "source": [
        "9° 4\n",
        "- calcular metade do valor lido\n"
      ],
      "metadata": {
        "id": "i_0CI1FgHGWM"
      }
    },
    {
      "cell_type": "code",
      "source": [
        "valor = int(input())\n",
        "calculo = valor/2\n",
        "print(calculo)"
      ],
      "metadata": {
        "colab": {
          "base_uri": "https://localhost:8080/"
        },
        "id": "kW1JGIJtHLaO",
        "outputId": "86fcaa67-d890-4d2e-a432-1f4e3c19cfce"
      },
      "execution_count": null,
      "outputs": [
        {
          "output_type": "stream",
          "name": "stdout",
          "text": [
            "100\n",
            "50.0\n"
          ]
        }
      ]
    },
    {
      "cell_type": "markdown",
      "source": [
        "10° 5\n",
        "- Ler dois numeros inteiros\n",
        "- calcular o resultado da divisao do primeiro pelo segundo\n",
        "- calcular o resto daa divisao do primeiro pelo segundo"
      ],
      "metadata": {
        "id": "LgnENkXlHrPn"
      }
    },
    {
      "cell_type": "code",
      "source": [
        "numero1 = int(input())\n",
        "numero2 = int(input())\n",
        "\n",
        "print(numero1 // numero2)\n",
        "print(numero1 % numero2)"
      ],
      "metadata": {
        "colab": {
          "base_uri": "https://localhost:8080/"
        },
        "id": "8QUUAmp9HyGw",
        "outputId": "434f4991-5e8d-413e-fa22-a0fbbe0e4bf1"
      },
      "execution_count": null,
      "outputs": [
        {
          "output_type": "stream",
          "name": "stdout",
          "text": [
            "13\n",
            "3\n",
            "4\n",
            "1\n"
          ]
        }
      ]
    },
    {
      "cell_type": "markdown",
      "source": [
        "11° Rejuvenescimento Light\n",
        "- Ler nome e idade \n",
        "- Imprimir idade - 2\n",
        "- e imprimir nome"
      ],
      "metadata": {
        "id": "TelpjQOwIvPt"
      }
    },
    {
      "cell_type": "code",
      "source": [
        "nome = input()\n",
        "idade = int(input())\n",
        "calculo = (idade - 2)\n",
        "\n",
        "print(calculo)\n",
        "print(nome)"
      ],
      "metadata": {
        "colab": {
          "base_uri": "https://localhost:8080/"
        },
        "id": "wIr_u0hyJEfC",
        "outputId": "36e0f52f-95c2-4676-b907-f8a602ee11d3"
      },
      "execution_count": null,
      "outputs": [
        {
          "output_type": "stream",
          "name": "stdout",
          "text": [
            "luana\n",
            "19\n",
            "17\n",
            "luana\n"
          ]
        }
      ]
    },
    {
      "cell_type": "markdown",
      "source": [
        "12° PIN perigoso\n",
        "- ler duas vezes 4 digitos\n",
        "- somar os dois numeros "
      ],
      "metadata": {
        "id": "YUWEjcnkJbqI"
      }
    },
    {
      "cell_type": "code",
      "source": [
        "pin1 = int(input())\n",
        "pin2 = int(input())\n",
        "\n",
        "senha = pin1+pin2\n",
        "\n",
        "print(senha)"
      ],
      "metadata": {
        "colab": {
          "base_uri": "https://localhost:8080/"
        },
        "id": "Ifs3NrWAKDcc",
        "outputId": "08db60f4-2f55-461c-9ac5-1df5d0aef406"
      },
      "execution_count": null,
      "outputs": [
        {
          "output_type": "stream",
          "name": "stdout",
          "text": [
            "100\n",
            "200\n",
            "300\n"
          ]
        }
      ]
    },
    {
      "cell_type": "markdown",
      "source": [
        "13° 8\n",
        "- ler dois numeros inteiros\n",
        "- calcular o valor da conta - o valor gastado na compra"
      ],
      "metadata": {
        "id": "blbaWWBLKiyK"
      }
    },
    {
      "cell_type": "code",
      "source": [
        "entrada = input()\n",
        "despesa = input()\n",
        "\n",
        "entrada = int(entrada)\n",
        "despesa = int(despesa)\n",
        "print(entrada-despesa)"
      ],
      "metadata": {
        "colab": {
          "base_uri": "https://localhost:8080/"
        },
        "id": "KZeGRPC2K1WV",
        "outputId": "e4a3602d-d8cb-4ee0-8fbe-8464a8a7f0a9"
      },
      "execution_count": null,
      "outputs": [
        {
          "output_type": "stream",
          "name": "stdout",
          "text": [
            "2002\n",
            "38\n",
            "1964\n"
          ]
        }
      ]
    },
    {
      "cell_type": "markdown",
      "source": [
        "14° 6\n",
        "- "
      ],
      "metadata": {
        "id": "RVU502fsRjJO"
      }
    },
    {
      "cell_type": "code",
      "source": [
        "salario = int(input())\n",
        "porcetagem = int(input())\n",
        "salario = salario/100\n",
        "print(salario*porcetagem) "
      ],
      "metadata": {
        "colab": {
          "base_uri": "https://localhost:8080/"
        },
        "id": "GQD-6MRSUE6I",
        "outputId": "d88cbdd1-6ff0-413a-fad4-4297c26e9841"
      },
      "execution_count": null,
      "outputs": [
        {
          "output_type": "stream",
          "name": "stdout",
          "text": [
            "100\n",
            "1\n",
            "200\n"
          ]
        }
      ]
    },
    {
      "cell_type": "markdown",
      "source": [
        "15° 7\n",
        "- o salario acrescentado do aumento\n"
      ],
      "metadata": {
        "id": "TfZVILDAVkuG"
      }
    },
    {
      "cell_type": "code",
      "source": [
        "salario = int(input())\n",
        "porcentagem = int(input())\n",
        "salario = salario/100\n",
        "\n",
        "aumento = salario * porcentagem\n",
        "print(salario + aumento) "
      ],
      "metadata": {
        "colab": {
          "base_uri": "https://localhost:8080/"
        },
        "id": "huqj8-xE8Boh",
        "outputId": "e257fcb5-2df7-4e9c-e149-3a2a9dd198e3"
      },
      "execution_count": null,
      "outputs": [
        {
          "output_type": "stream",
          "name": "stdout",
          "text": [
            "100\n",
            "1\n",
            "2.0\n"
          ]
        }
      ]
    },
    {
      "cell_type": "markdown",
      "source": [
        "18° minuteria\n",
        "- calcular horas de monitoria e minutos  "
      ],
      "metadata": {
        "id": "P2c95SxGXaG6"
      }
    },
    {
      "cell_type": "code",
      "source": [
        "horas = int(input())\n",
        "minutos = int(input())\n",
        "\n",
        "horas = horas* 60 \n",
        "\n",
        "print(horas+minutos)\n"
      ],
      "metadata": {
        "colab": {
          "base_uri": "https://localhost:8080/"
        },
        "id": "vFvKjkZwXwWA",
        "outputId": "2b4f7ae0-2473-4e2a-86ca-108e5b189f9a"
      },
      "execution_count": null,
      "outputs": [
        {
          "output_type": "stream",
          "name": "stdout",
          "text": [
            "2\n",
            "30\n",
            "150\n"
          ]
        }
      ]
    }
  ]
}